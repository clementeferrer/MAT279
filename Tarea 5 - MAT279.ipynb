{
 "cells": [
  {
   "cell_type": "markdown",
   "id": "a09311a1-810c-44db-8ee4-a3df2834b4de",
   "metadata": {},
   "source": [
    "<center><img src=\"logo_usm-1.png\" width=\"240\" height=\"240\"/></center>"
   ]
  },
  {
   "cell_type": "markdown",
   "id": "0082e36e-6951-42dd-849b-fd74781ac222",
   "metadata": {
    "tags": []
   },
   "source": [
    "# <center> Tarea V - Optimización no lineal</center>\n",
    "## <center>Estudiante: Clemente Ferrer</center>"
   ]
  },
  {
   "cell_type": "markdown",
   "id": "62057cc7-e6e9-4b3b-a18e-0ac578602cef",
   "metadata": {},
   "source": [
    "En aplicaciones relacionadas con machine learning, se dispone de una serie de datos $\\{(w_i,y_i):i\\in I\\}$ con los cuales nos interesa ajustar un modelo para explicar la variable $Y$ en términos de $W$, usualmente de manera lineal (i.e. $Y \\sim X^{\\top}W$). En general, estos problemas se pueden escribir de la forma\n",
    "\n",
    "$$\\text{Minimizar } F(x):=\\sum_{i \\in I} f_i(x)+\\lambda \\mathcal{R}(x)\n",
    "\\text{ sobre todos los }x \\in \\mathbb{R}^d.$$\n",
    "\n",
    "donde $f_i$ representa el costo de utilizar el $i$-ésimo dato, y $R$ es una función de regularización para mantener\n",
    "la simpleza del modelo. En este problema, se piden estudiar dos modelos:\n",
    "\n",
    "$$\n",
    "\\textbf{Mínimos cuadrados:} \\quad f_i(x)=\\left(y_i-x^{\\top} w_i\\right)^2, \\text { y } \\mathcal{R} \\equiv 0.\n",
    "$$\n",
    "$$\n",
    "\\textbf{Ridge:} \\quad f_i(x)=\\left(y_i-x^{\\top} w_i\\right)^2, \\text { y } \\mathcal{R} = \\|\\cdot\\|_2.\n",
    "$$\n",
    "\n",
    "Se pide\n",
    "\n",
    "1. Justificar la convexidad de estos problemas.\n",
    "\n",
    "    <font color='blue'>Observe que $f_i$ es una función lineal en $x$, luego es convexa. Además,  el mapeo $x\\mapsto x^2$ es no negativo, luego por composición de una función no negativa y una convexa deducimos que $f_i$ es convexa. Más aún, la norma también es una función convexa. Se sigue por suma de funciones convexas que $F(x)$ es convexa.</font>\n",
    "\n",
    "2. Implementar el Método del gradiente (en el lenguaje que prefiera, de preferencia Python) descrito en clases (Apunte, pág.40). Su rutina debe considerar como entradas $Y$, $W$, $\\lambda$ y debe entregar el vector de coeficientes óptimos $x^*$. El pseudo-código se describe más abajo\n",
    "\n",
    "<center><img src=\"Armijo.png\" /></center>"
   ]
  },
  {
   "cell_type": "markdown",
   "id": "b73f7c45-f6ef-4939-af51-ba143dabcf94",
   "metadata": {},
   "source": [
    "<font color='blue'> Para lo anterior, observe que $F(x)=\\sum_{i=1}^{N}(y_i-x^{\\top}w_i)^2+\\lambda R(x)$ y por reglas de derivación $\\nabla F(x)=-2W^{\\top}(y-Wx)+\\lambda \\nabla \\mathcal{R}(x)$. En particular, para $\\textbf{Ridge}$ se tiene que $\\nabla\\|\\cdot\\|_2=\\frac{x}{\\|\\cdot\\|}_2$. Con esto en consideración podemos proceder a programar el código. <font>"
   ]
  },
  {
   "cell_type": "markdown",
   "id": "9d101975-afa7-4711-a9e2-f342663638ba",
   "metadata": {
    "tags": []
   },
   "source": [
    "### <font color='blue'> Librerias a usar <font> "
   ]
  },
  {
   "cell_type": "code",
   "execution_count": 46,
   "id": "8a0e083c-1714-4efe-944a-f10c242ccc7b",
   "metadata": {},
   "outputs": [],
   "source": [
    "import cv2\n",
    "import numpy as np\n",
    "import pandas as pd\n",
    "from matplotlib import pyplot as plt\n",
    "\n",
    "%matplotlib inline\n",
    "plt.style.use('seaborn-poster')"
   ]
  },
  {
   "cell_type": "markdown",
   "id": "478b9c27-832c-40fb-be69-4385b57d5b37",
   "metadata": {
    "tags": []
   },
   "source": [
    "### <font color='blue'> Implementación del $\\textit{Metodo del Gradiente con paso de Armijo}$ <font>"
   ]
  },
  {
   "cell_type": "markdown",
   "id": "d988463a-157d-4c1e-bb45-20224ba304f8",
   "metadata": {},
   "source": [
    "<font color='blue'> Definimos las funciones $F(x)$ Y $\\nabla F(x)$ para los casos de mínimos cuadrados y Ridge. <font>"
   ]
  },
  {
   "cell_type": "code",
   "execution_count": 47,
   "id": "7cc77fb6-10d6-4c38-8ab7-7241445fa536",
   "metadata": {},
   "outputs": [],
   "source": [
    "def F_lq(x, L, Y, W):\n",
    "    return np.sum((Y- W.dot(x))**2) + L*0\n",
    "\n",
    "def gradF_lq(x, L, Y, W):\n",
    "    return -2*(W.T).dot(Y - W.dot(x)) + L*0\n",
    "\n",
    "def F_r(x, L, Y, W):\n",
    "    return np.sum((Y- W.dot(x))**2) + L*np.linalg.norm(x)\n",
    "\n",
    "def gradF_r(x, L, Y, W):\n",
    "    return -2*(W.T).dot(Y - W.dot(x)) + L*(x/np.linalg.norm(x))"
   ]
  },
  {
   "cell_type": "markdown",
   "id": "66183d78-ba74-4d23-a31b-47cc91767760",
   "metadata": {},
   "source": [
    "<font color='blue'> Finalmente, creamos la función $\\text{grad}$ con paso de Armijo para los casos de mínimos cuadrados y Ridge. <font>"
   ]
  },
  {
   "cell_type": "code",
   "execution_count": 48,
   "id": "02abeb47-eaa1-4f7e-b85a-0bf236dac6ba",
   "metadata": {},
   "outputs": [],
   "source": [
    "def gradLS_armijo_step(x, Y, W, L, e, a, b, imprimir):\n",
    "    iteracion = 1\n",
    "    while np.linalg.norm(gradF_lq(x, L, Y, W)) >= e:\n",
    "        d = -gradF_lq(x, L, Y, W)\n",
    "        d_norm = np.linalg.norm(d)\n",
    "        k = 0\n",
    "        while True:\n",
    "            if F_lq(x + (b**k)*d, L, Y, W) - F_lq(x ,L, Y, W) <=  a*(b**k)*np.sum((gradF_lq(x, L, Y, W).T).dot(d)):\n",
    "                gamma = b**k\n",
    "                break\n",
    "            k += 1\n",
    "        x = x + gamma*d\n",
    "        if imprimir == \"si\":\n",
    "            if iteracion <=10:\n",
    "                print(\"Los coeficientes en la iteración \" + str(iteracion) +\" son\\n\"+ str(x) + \"\\n\")\n",
    "        iteracion +=1\n",
    "    return  x, F_lq(x, L, Y, W)\n",
    "\n",
    "def gradR_armijo_step(x, Y, W, L, e, a, b, imprimir):\n",
    "    iteracion = 1\n",
    "    while np.linalg.norm(gradF_r(x, L, Y, W)) >= e:\n",
    "        d = -gradF_r(x, L, Y, W)\n",
    "        d_norm = np.linalg.norm(d)\n",
    "        k = 0\n",
    "        while True:\n",
    "            if F_r(x + (b**k)*d, L, Y, W) - F_r(x ,L, Y, W) <=  a*(b**k)*np.sum((gradF_r(x, L, Y, W).T).dot(d)):\n",
    "                gamma = b**k\n",
    "                break\n",
    "            k += 1\n",
    "        x = x + gamma*d\n",
    "        if imprimir == \"si\":\n",
    "            if iteracion <=10:\n",
    "                print(\"Los coeficientes en la iteración \" + str(iteracion) +\" son\\n\"+ str(x) + \"\\n\")\n",
    "        iteracion +=1\n",
    "    return x, F_r(x, L, Y, W)"
   ]
  },
  {
   "cell_type": "markdown",
   "id": "a026dfb0-98bb-4ba5-809b-5abb439a65ad",
   "metadata": {},
   "source": [
    "3. (Continuación) Considere $\\alpha,\\beta\\approx 0.8$. Considere los datos en $\\texttt{data.csv}$, correspondientes a las variaciones de una superficie $y$ sometida a un sistema de fuerzas que la deforman, y una colección de variables que\n",
    "representan los materiales presentes en esta superficie $x_1,\\ldots, x_{15}$."
   ]
  },
  {
   "cell_type": "markdown",
   "id": "2baa984c-62e0-4923-89b5-fe82e9c334dc",
   "metadata": {},
   "source": [
    "<font color='blue'> Ahora, con el objetivo de testear nuestro código, recurriremos al dataset proveniente de AULA <font>"
   ]
  },
  {
   "cell_type": "markdown",
   "id": "46235d00-3348-4be3-ad0a-3a500c739b7f",
   "metadata": {
    "tags": []
   },
   "source": [
    "### <font color='blue'> Función auxiliar para intercambiar columnas en un dataset <font>"
   ]
  },
  {
   "cell_type": "code",
   "execution_count": 49,
   "id": "54c8e6e3-ee70-45a2-a49b-408776bc6108",
   "metadata": {},
   "outputs": [],
   "source": [
    "def swap_columns(df, c1, c2):\n",
    "    df['temp'] = df[c1]\n",
    "    df[c1] = df[c2]\n",
    "    df[c2] = df['temp']\n",
    "    df.drop(columns=['temp'], inplace=True)\n",
    "    df.rename(columns = {c1:c2, c2:c1}, inplace = True)"
   ]
  },
  {
   "cell_type": "markdown",
   "id": "e2343fff-acd6-4c63-a525-21e1ec5569f2",
   "metadata": {},
   "source": [
    "### <font color='blue'> Lectura y visualización de los datos <font>"
   ]
  },
  {
   "cell_type": "code",
   "execution_count": 50,
   "id": "8bcbba64",
   "metadata": {},
   "outputs": [
    {
     "data": {
      "text/html": [
       "<div>\n",
       "<style scoped>\n",
       "    .dataframe tbody tr th:only-of-type {\n",
       "        vertical-align: middle;\n",
       "    }\n",
       "\n",
       "    .dataframe tbody tr th {\n",
       "        vertical-align: top;\n",
       "    }\n",
       "\n",
       "    .dataframe thead th {\n",
       "        text-align: right;\n",
       "    }\n",
       "</style>\n",
       "<table border=\"1\" class=\"dataframe\">\n",
       "  <thead>\n",
       "    <tr style=\"text-align: right;\">\n",
       "      <th></th>\n",
       "      <th>y</th>\n",
       "      <th>x</th>\n",
       "      <th>x_2</th>\n",
       "      <th>x_3</th>\n",
       "      <th>x_4</th>\n",
       "      <th>x_5</th>\n",
       "      <th>x_6</th>\n",
       "      <th>x_7</th>\n",
       "      <th>x_8</th>\n",
       "      <th>x_9</th>\n",
       "      <th>x_10</th>\n",
       "      <th>x_11</th>\n",
       "      <th>x_12</th>\n",
       "      <th>x_13</th>\n",
       "      <th>x_14</th>\n",
       "      <th>x_15</th>\n",
       "    </tr>\n",
       "  </thead>\n",
       "  <tbody>\n",
       "    <tr>\n",
       "      <th>0</th>\n",
       "      <td>1.065763</td>\n",
       "      <td>1.047198</td>\n",
       "      <td>1.096623</td>\n",
       "      <td>1.148381</td>\n",
       "      <td>1.202581</td>\n",
       "      <td>1.259340</td>\n",
       "      <td>1.318778</td>\n",
       "      <td>1.381021</td>\n",
       "      <td>1.446202</td>\n",
       "      <td>1.514459</td>\n",
       "      <td>1.585938</td>\n",
       "      <td>1.660790</td>\n",
       "      <td>1.739176</td>\n",
       "      <td>1.821260</td>\n",
       "      <td>1.907219</td>\n",
       "      <td>1.997235</td>\n",
       "    </tr>\n",
       "    <tr>\n",
       "      <th>1</th>\n",
       "      <td>1.006086</td>\n",
       "      <td>1.117011</td>\n",
       "      <td>1.247713</td>\n",
       "      <td>1.393709</td>\n",
       "      <td>1.556788</td>\n",
       "      <td>1.738948</td>\n",
       "      <td>1.942424</td>\n",
       "      <td>2.169709</td>\n",
       "      <td>2.423588</td>\n",
       "      <td>2.707173</td>\n",
       "      <td>3.023942</td>\n",
       "      <td>3.377775</td>\n",
       "      <td>3.773011</td>\n",
       "      <td>4.214494</td>\n",
       "      <td>4.707635</td>\n",
       "      <td>5.258479</td>\n",
       "    </tr>\n",
       "    <tr>\n",
       "      <th>2</th>\n",
       "      <td>0.695374</td>\n",
       "      <td>1.186824</td>\n",
       "      <td>1.408551</td>\n",
       "      <td>1.671702</td>\n",
       "      <td>1.984016</td>\n",
       "      <td>2.354677</td>\n",
       "      <td>2.794587</td>\n",
       "      <td>3.316683</td>\n",
       "      <td>3.936319</td>\n",
       "      <td>4.671717</td>\n",
       "      <td>5.544505</td>\n",
       "      <td>6.580351</td>\n",
       "      <td>7.809718</td>\n",
       "      <td>9.268760</td>\n",
       "      <td>11.000386</td>\n",
       "      <td>13.055521</td>\n",
       "    </tr>\n",
       "    <tr>\n",
       "      <th>3</th>\n",
       "      <td>0.949799</td>\n",
       "      <td>1.256637</td>\n",
       "      <td>1.579137</td>\n",
       "      <td>1.984402</td>\n",
       "      <td>2.493673</td>\n",
       "      <td>3.133642</td>\n",
       "      <td>3.937850</td>\n",
       "      <td>4.948448</td>\n",
       "      <td>6.218404</td>\n",
       "      <td>7.814277</td>\n",
       "      <td>9.819710</td>\n",
       "      <td>12.339811</td>\n",
       "      <td>15.506664</td>\n",
       "      <td>19.486248</td>\n",
       "      <td>24.487142</td>\n",
       "      <td>30.771450</td>\n",
       "    </tr>\n",
       "    <tr>\n",
       "      <th>4</th>\n",
       "      <td>1.063496</td>\n",
       "      <td>1.326450</td>\n",
       "      <td>1.759470</td>\n",
       "      <td>2.333850</td>\n",
       "      <td>3.095735</td>\n",
       "      <td>4.106339</td>\n",
       "      <td>5.446854</td>\n",
       "      <td>7.224981</td>\n",
       "      <td>9.583578</td>\n",
       "      <td>12.712139</td>\n",
       "      <td>16.862020</td>\n",
       "      <td>22.366630</td>\n",
       "      <td>29.668222</td>\n",
       "      <td>39.353420</td>\n",
       "      <td>52.200353</td>\n",
       "      <td>69.241170</td>\n",
       "    </tr>\n",
       "  </tbody>\n",
       "</table>\n",
       "</div>"
      ],
      "text/plain": [
       "          y         x       x_2       x_3       x_4       x_5       x_6  \\\n",
       "0  1.065763  1.047198  1.096623  1.148381  1.202581  1.259340  1.318778   \n",
       "1  1.006086  1.117011  1.247713  1.393709  1.556788  1.738948  1.942424   \n",
       "2  0.695374  1.186824  1.408551  1.671702  1.984016  2.354677  2.794587   \n",
       "3  0.949799  1.256637  1.579137  1.984402  2.493673  3.133642  3.937850   \n",
       "4  1.063496  1.326450  1.759470  2.333850  3.095735  4.106339  5.446854   \n",
       "\n",
       "        x_7       x_8        x_9       x_10       x_11       x_12       x_13  \\\n",
       "0  1.381021  1.446202   1.514459   1.585938   1.660790   1.739176   1.821260   \n",
       "1  2.169709  2.423588   2.707173   3.023942   3.377775   3.773011   4.214494   \n",
       "2  3.316683  3.936319   4.671717   5.544505   6.580351   7.809718   9.268760   \n",
       "3  4.948448  6.218404   7.814277   9.819710  12.339811  15.506664  19.486248   \n",
       "4  7.224981  9.583578  12.712139  16.862020  22.366630  29.668222  39.353420   \n",
       "\n",
       "        x_14       x_15  \n",
       "0   1.907219   1.997235  \n",
       "1   4.707635   5.258479  \n",
       "2  11.000386  13.055521  \n",
       "3  24.487142  30.771450  \n",
       "4  52.200353  69.241170  "
      ]
     },
     "execution_count": 50,
     "metadata": {},
     "output_type": "execute_result"
    }
   ],
   "source": [
    "data_path = \"C:/Users/ccfer/Downloads/data1.csv\"\n",
    "data_csv = pd.read_csv(data_path, sep=';')\n",
    "\n",
    "swap_columns(data_csv, \"x\", \"y\")\n",
    "\n",
    "data_csv.head()"
   ]
  },
  {
   "cell_type": "markdown",
   "id": "87f453f4-84b4-4874-afe0-c864b36d7391",
   "metadata": {},
   "source": [
    "<font color='blue'> En particular el dataset posee $61$ muestras con 15 variables que determinan el output $y$. A partir de lo anterior, definiremos $Y=y\\in\\mathbb{R}^{61}$ y $W=(x\\,\\,x_2\\,\\,\\ldots\\,\\, x_{15})\\in\\mathbb{R}^{61\\times 8}$ (note que se ha tomado un subconjunto como se indicó).\n",
    "\n",
    "<font color='blue'> $\\textbf{Observación: }$Enseguida notamos una excesiva diferencia en las magnitudes de ciertas variables, lo que podría conllevar un mal condicionamiento de $W$. <font>"
   ]
  },
  {
   "cell_type": "code",
   "execution_count": 51,
   "id": "f262a63f-6a76-49a7-a034-dc0a61ecdbe0",
   "metadata": {},
   "outputs": [],
   "source": [
    "W = data_csv[data_csv.columns[1:9]].to_numpy()\n",
    "Y = data_csv[[\"y\"]].to_numpy()"
   ]
  },
  {
   "cell_type": "markdown",
   "id": "ab24447d-d0e6-4b0a-9efe-68bf4e5a9b6d",
   "metadata": {},
   "source": [
    "<font color='blue'> Por lo visto en cursos anteriores, sabemos que $\\text{Cond}(W)\\approx 1$ para que la matriz del problema esté bien condicionada. Por ello procedemos a calcular dicho valor <font>"
   ]
  },
  {
   "cell_type": "code",
   "execution_count": 52,
   "id": "64d73cb3-ba0b-42a5-bd52-8d8a3117954c",
   "metadata": {},
   "outputs": [
    {
     "data": {
      "text/plain": [
       "261678387.76611644"
      ]
     },
     "execution_count": 52,
     "metadata": {},
     "output_type": "execute_result"
    }
   ],
   "source": [
    "np.linalg.cond(W)"
   ]
  },
  {
   "cell_type": "markdown",
   "id": "8696682d-1cf2-454e-802c-4f4697490442",
   "metadata": {},
   "source": [
    "<font color='blue'>Por lo que para efectos pedagógicos y del curso es irrelevante trabajar con una matriz así, pues se necesitarían técnicas de precondicionamiento y regularización para disminuir el factor de condicionamiento que son vistas en cursos de análisis numérico avanzado, los cuales NO son prerrequisito de este. De todas maneras se va a continuar el análisis con estos datos, aunque se tendrá que tomar un epsilon sumamente grande para asegurar convergencia.\n",
    "\n",
    "<font color='blue'> Por lo anterior, al final de esta tarea se incluira un anexo, haciendo uso de la biblioteca $\\texttt{sklearn}$ que nos provee de datasets de la dimensión deseada con buenas propiedades de condicionamiento. Si el ayudante desea no desperdiciar parte de su tiempo corriendo estos códigos eterno, puede ir al apartado final.<font>"
   ]
  },
  {
   "cell_type": "code",
   "execution_count": 53,
   "id": "31d1a69e-a9e9-462d-880b-bb970e2e98b1",
   "metadata": {},
   "outputs": [],
   "source": [
    "alfa = 0.8\n",
    "beta = 0.8"
   ]
  },
  {
   "cell_type": "markdown",
   "id": "e13cebd8-be0b-45a9-a925-df62f211fe88",
   "metadata": {},
   "source": [
    "<font color='blue'> Donde acá si podemos visualizar una matriz bien condicionada que nos permitirá realizar el método implementado de forma correcta. En particular usarmeos $\\alpha=\\beta=0.8$.<font>"
   ]
  },
  {
   "cell_type": "markdown",
   "id": "6b47da09-0163-4dc5-ad34-089ac588ece5",
   "metadata": {},
   "source": [
    "3. Estimar los coeficientes para los dos modelos con $\\lambda = 1$. Reporte las primeras $10$ iteraciones de su método y compare los coeficientes correspondientes."
   ]
  },
  {
   "cell_type": "markdown",
   "id": "42ae0dba-af28-4c34-add2-9158e709df97",
   "metadata": {},
   "source": [
    "<font color='blue'> En lo que resta, usaremos un vector inicial aleatorio <font>"
   ]
  },
  {
   "cell_type": "code",
   "execution_count": 54,
   "id": "ff1e3ca6-7508-4419-8b71-d7d63b2f06e9",
   "metadata": {},
   "outputs": [],
   "source": [
    "x = np.random.rand(W.shape[1], 1)"
   ]
  },
  {
   "cell_type": "code",
   "execution_count": 55,
   "id": "52d30ec1-1c40-4ec3-bef5-9cb8c9457800",
   "metadata": {},
   "outputs": [
    {
     "name": "stdout",
     "output_type": "stream",
     "text": [
      "Para el modelo de mínimos cuadrados se tiene que\n",
      "\n",
      "Los coeficientes en la iteración 1 son\n",
      "[[0.48186776]\n",
      " [0.19642322]\n",
      " [0.42213568]\n",
      " [0.69696802]\n",
      " [0.01137437]\n",
      " [0.69484171]\n",
      " [0.73442424]\n",
      " [0.56811428]]\n",
      "\n",
      "Los coeficientes en la iteración 2 son\n",
      "[[0.4818637 ]\n",
      " [0.19640406]\n",
      " [0.4220446 ]\n",
      " [0.69653178]\n",
      " [0.0092717 ]\n",
      " [0.68465236]\n",
      " [0.68481739]\n",
      " [0.32561919]]\n",
      "\n",
      "Los coeficientes en la iteración 3 son\n",
      "[[0.48186099]\n",
      " [0.19639133]\n",
      " [0.4219841 ]\n",
      " [0.69624225]\n",
      " [0.00787724]\n",
      " [0.6778994 ]\n",
      " [0.65195938]\n",
      " [0.16507817]]\n",
      "\n",
      "Los coeficientes en la iteración 4 son\n",
      "[[0.48185919]\n",
      " [0.19638283]\n",
      " [0.42194384]\n",
      " [0.69604985]\n",
      " [0.00695166]\n",
      " [0.67342151]\n",
      " [0.63018999]\n",
      " [0.05879506]]\n",
      "\n",
      "Los coeficientes en la iteración 5 son\n",
      "[[ 0.48185797]\n",
      " [ 0.19637716]\n",
      " [ 0.42191698]\n",
      " [ 0.69592175]\n",
      " [ 0.0063365 ]\n",
      " [ 0.67044984]\n",
      " [ 0.61576184]\n",
      " [-0.01156645]]\n",
      "\n",
      "Los coeficientes en la iteración 6 son\n",
      "[[ 0.48185715]\n",
      " [ 0.19637334]\n",
      " [ 0.421899  ]\n",
      " [ 0.69583623]\n",
      " [ 0.00592685]\n",
      " [ 0.66847537]\n",
      " [ 0.60619399]\n",
      " [-0.05814596]]\n",
      "\n",
      "Los coeficientes en la iteración 7 son\n",
      "[[ 0.4818566 ]\n",
      " [ 0.19637076]\n",
      " [ 0.42188688]\n",
      " [ 0.69577889]\n",
      " [ 0.00565326]\n",
      " [ 0.66716109]\n",
      " [ 0.59984391]\n",
      " [-0.08898053]]\n",
      "\n",
      "Los coeficientes en la iteración 8 son\n",
      "[[ 0.48185621]\n",
      " [ 0.19636899]\n",
      " [ 0.42187866]\n",
      " [ 0.69574021]\n",
      " [ 0.00546975]\n",
      " [ 0.6662839 ]\n",
      " [ 0.59562417]\n",
      " [-0.10939113]]\n",
      "\n",
      "Los coeficientes en la iteración 9 son\n",
      "[[ 0.48185594]\n",
      " [ 0.19636776]\n",
      " [ 0.42187301]\n",
      " [ 0.69571389]\n",
      " [ 0.00534587]\n",
      " [ 0.66569609]\n",
      " [ 0.59281482]\n",
      " [-0.1229005 ]]\n",
      "\n",
      "Los coeficientes en la iteración 10 son\n",
      "[[ 0.48185575]\n",
      " [ 0.19636689]\n",
      " [ 0.42186906]\n",
      " [ 0.69569574]\n",
      " [ 0.00526148]\n",
      " [ 0.66529986]\n",
      " [ 0.59093923]\n",
      " [-0.1318409 ]]\n",
      "\n",
      "y los coeficientes finales son\n",
      "[[ 0.48104908]\n",
      " [ 0.19349828]\n",
      " [ 0.4117205 ]\n",
      " [ 0.66059697]\n",
      " [-0.11015875]\n",
      " [ 0.32471553]\n",
      " [-0.16017547]\n",
      " [ 0.01870887]]\n"
     ]
    }
   ],
   "source": [
    "print(\"Para el modelo de mínimos cuadrados se tiene que\\n\")\n",
    "gradLS_armijo_step(x, Y, W, 10, 1000000, alfa, beta, \"si\")\n",
    "coefs_LS = gradLS_armijo_step(x, Y, W, 10, 1000000, alfa, beta, \"no\")[0]\n",
    "print(\"y los coeficientes finales son\\n\" + str(coefs_LS))"
   ]
  },
  {
   "cell_type": "code",
   "execution_count": 56,
   "id": "15e55356-ca7e-4ff8-98bd-3f248c6b13c9",
   "metadata": {},
   "outputs": [
    {
     "name": "stdout",
     "output_type": "stream",
     "text": [
      "Para el modelo Ridge se tiene que\n",
      "\n",
      "Los coeficientes en la iteración 1 son\n",
      "[[0.48186776]\n",
      " [0.19642322]\n",
      " [0.42213568]\n",
      " [0.69696802]\n",
      " [0.01137437]\n",
      " [0.69484171]\n",
      " [0.73442424]\n",
      " [0.56811428]]\n",
      "\n",
      "Los coeficientes en la iteración 2 son\n",
      "[[0.4818637 ]\n",
      " [0.19640406]\n",
      " [0.4220446 ]\n",
      " [0.69653178]\n",
      " [0.0092717 ]\n",
      " [0.68465236]\n",
      " [0.68481739]\n",
      " [0.32561919]]\n",
      "\n",
      "Los coeficientes en la iteración 3 son\n",
      "[[0.48186099]\n",
      " [0.19639133]\n",
      " [0.4219841 ]\n",
      " [0.69624225]\n",
      " [0.00787724]\n",
      " [0.6778994 ]\n",
      " [0.65195938]\n",
      " [0.16507817]]\n",
      "\n",
      "Los coeficientes en la iteración 4 son\n",
      "[[0.48185919]\n",
      " [0.19638283]\n",
      " [0.42194384]\n",
      " [0.69604985]\n",
      " [0.00695166]\n",
      " [0.67342151]\n",
      " [0.63018999]\n",
      " [0.05879506]]\n",
      "\n",
      "Los coeficientes en la iteración 5 son\n",
      "[[ 0.48185797]\n",
      " [ 0.19637716]\n",
      " [ 0.42191698]\n",
      " [ 0.69592175]\n",
      " [ 0.0063365 ]\n",
      " [ 0.67044984]\n",
      " [ 0.61576184]\n",
      " [-0.01156645]]\n",
      "\n",
      "Los coeficientes en la iteración 6 son\n",
      "[[ 0.48185715]\n",
      " [ 0.19637334]\n",
      " [ 0.421899  ]\n",
      " [ 0.69583623]\n",
      " [ 0.00592685]\n",
      " [ 0.66847537]\n",
      " [ 0.60619399]\n",
      " [-0.05814596]]\n",
      "\n",
      "Los coeficientes en la iteración 7 son\n",
      "[[ 0.4818566 ]\n",
      " [ 0.19637076]\n",
      " [ 0.42188688]\n",
      " [ 0.69577889]\n",
      " [ 0.00565326]\n",
      " [ 0.66716109]\n",
      " [ 0.59984391]\n",
      " [-0.08898053]]\n",
      "\n",
      "Los coeficientes en la iteración 8 son\n",
      "[[ 0.48185621]\n",
      " [ 0.19636899]\n",
      " [ 0.42187866]\n",
      " [ 0.69574021]\n",
      " [ 0.00546975]\n",
      " [ 0.6662839 ]\n",
      " [ 0.59562417]\n",
      " [-0.10939113]]\n",
      "\n",
      "Los coeficientes en la iteración 9 son\n",
      "[[ 0.48185594]\n",
      " [ 0.19636776]\n",
      " [ 0.42187301]\n",
      " [ 0.69571389]\n",
      " [ 0.00534587]\n",
      " [ 0.66569609]\n",
      " [ 0.59281482]\n",
      " [-0.1229005 ]]\n",
      "\n",
      "Los coeficientes en la iteración 10 son\n",
      "[[ 0.48185575]\n",
      " [ 0.19636689]\n",
      " [ 0.42186906]\n",
      " [ 0.69569574]\n",
      " [ 0.00526148]\n",
      " [ 0.66529986]\n",
      " [ 0.59093923]\n",
      " [-0.1318409 ]]\n",
      "\n",
      "y los coeficientes finales son\n",
      "[[ 0.48104902]\n",
      " [ 0.19349826]\n",
      " [ 0.41172045]\n",
      " [ 0.66059689]\n",
      " [-0.11015873]\n",
      " [ 0.32471549]\n",
      " [-0.16017545]\n",
      " [ 0.01870887]]\n"
     ]
    }
   ],
   "source": [
    "print(\"Para el modelo Ridge se tiene que\\n\")\n",
    "gradR_armijo_step(x, Y, W, 10, 1000000, alfa, beta, \"si\")\n",
    "coefs_R = gradR_armijo_step(x, Y, W, 10, 1000000, alfa, beta, \"no\")[0]\n",
    "print(\"y los coeficientes finales son\\n\" + str(coefs_R))"
   ]
  },
  {
   "cell_type": "markdown",
   "id": "e4f8b82f-f8c1-4412-b5c1-6917db2099ba",
   "metadata": {},
   "source": [
    "<font color='blue'> Para compararlos, usaremos el error en norma entre ambos $\\|x_{LS}-x_{\\text{Ridge}}\\|$ y esperaremos que sea cercano a cero, pues de esta manera, ambos métodos arrojarían valores similares <font>"
   ]
  },
  {
   "cell_type": "code",
   "execution_count": 57,
   "id": "0287588a-8a2b-441f-8280-e0e8c538897d",
   "metadata": {},
   "outputs": [
    {
     "data": {
      "text/plain": [
       "1.1891512976310071e-07"
      ]
     },
     "execution_count": 57,
     "metadata": {},
     "output_type": "execute_result"
    }
   ],
   "source": [
    "np.linalg.norm(coefs_LS-coefs_R)"
   ]
  },
  {
   "cell_type": "markdown",
   "id": "25f66bf2-f316-421f-aea9-cd7fb32a6da8",
   "metadata": {},
   "source": [
    "<font color='blue'> Por lo anterior, concluimos que los valores son cercanos y similares entre si. <font>"
   ]
  },
  {
   "cell_type": "markdown",
   "id": "8a5ee986-1bb8-410b-8f47-746b028b5bdc",
   "metadata": {},
   "source": [
    "4. Estimar la regresión Ridge con parámetros $\\lambda\\in \\{0,01; 0,1; 1; 10; 1000\\}$. Comparar las soluciones\n",
    "obtenidas y realizar un gráfico que muestre la diferencia en magnitud de los coeficientes $x$."
   ]
  },
  {
   "cell_type": "code",
   "execution_count": 58,
   "id": "b1cb33f9-570c-4337-8c9d-901b11e84540",
   "metadata": {},
   "outputs": [],
   "source": [
    "lista_coefs = []\n",
    "lista_funcion = []\n",
    "lambdas = [0.01, 0.1, 1, 10, 100, 1000]\n",
    "for i in lambdas:\n",
    "    lista_funcion.append(gradR_armijo_step(x, Y, W, i, 1000000, alfa, beta, \"no\")[1])\n",
    "    lista_coefs.append(np.linalg.norm(gradR_armijo_step(x, Y, W, i, 1000000, alfa, beta, \"no\")[0]))"
   ]
  },
  {
   "cell_type": "code",
   "execution_count": 59,
   "id": "04bf695e-0563-4057-aa2a-2826c37d3838",
   "metadata": {},
   "outputs": [
    {
     "data": {
      "text/plain": [
       "[1.0091249919158911,\n",
       " 1.0091249908456557,\n",
       " 1.009124980143293,\n",
       " 1.0091248731196825,\n",
       " 1.0091238028835543,\n",
       " 1.009113100522241]"
      ]
     },
     "execution_count": 59,
     "metadata": {},
     "output_type": "execute_result"
    }
   ],
   "source": [
    "lista_coefs "
   ]
  },
  {
   "cell_type": "code",
   "execution_count": 60,
   "id": "8be214e3-c834-4b28-8ba3-68281d70634a",
   "metadata": {},
   "outputs": [
    {
     "data": {
      "image/png": "[encoded data removed]",
      "text/plain": [
       "<Figure size 864x576 with 1 Axes>"
      ]
     },
     "metadata": {
      "needs_background": "light"
     },
     "output_type": "display_data"
    }
   ],
   "source": [
    "plt.figure(figsize = (12, 8))\n",
    "plt.plot(lambdas, lista_coefs, label='Aproximación')\n",
    "plt.title('Norma parámetros vs λ')\n",
    "plt.xlabel('Parámetro λ Ridge')\n",
    "plt.ylabel('Norma parámetros obtenidos')\n",
    "plt.grid()\n",
    "plt.legend(loc='lower right')\n",
    "plt.show()"
   ]
  },
  {
   "cell_type": "markdown",
   "id": "b65dd7cf-60d7-4e9d-ba43-b1104f9b94de",
   "metadata": {},
   "source": [
    "# ANEXO - Códigos optimizados para revisión"
   ]
  },
  {
   "cell_type": "code",
   "execution_count": 61,
   "id": "c8b53232-2e5d-4e96-9670-300dc3bd71b9",
   "metadata": {},
   "outputs": [
    {
     "data": {
      "text/plain": [
       "1.2118336977935213"
      ]
     },
     "execution_count": 61,
     "metadata": {},
     "output_type": "execute_result"
    }
   ],
   "source": [
    "from sklearn import datasets\n",
    "\n",
    "W, Y = datasets.make_regression(1140,15) #Crearemos un dataset con las dimensiones originales!\n",
    "Y = Y.reshape((-1,1))\n",
    "\n",
    "np.linalg.cond(W)"
   ]
  },
  {
   "cell_type": "markdown",
   "id": "85a3d52a-479c-41cb-a200-cd3b85c59750",
   "metadata": {},
   "source": [
    "Enseguida se puede verificar que el factor de condiconamiento es cercano a $1$."
   ]
  },
  {
   "cell_type": "code",
   "execution_count": 62,
   "id": "1cc82a39-e62f-45c8-914c-1aa46de4f50a",
   "metadata": {},
   "outputs": [],
   "source": [
    "x = np.random.rand(W.shape[1], 1) #Vector aleatorio"
   ]
  },
  {
   "cell_type": "markdown",
   "id": "f18370b8-a2f7-4c7d-9def-9cfbeddc0a3c",
   "metadata": {},
   "source": [
    "Modelo mínimos cuadrados."
   ]
  },
  {
   "cell_type": "code",
   "execution_count": 63,
   "id": "e39263f3-248e-494a-b79e-cc48c2cc6b83",
   "metadata": {},
   "outputs": [
    {
     "name": "stdout",
     "output_type": "stream",
     "text": [
      "Para el modelo de mínimos cuadrados se tiene que\n",
      "\n",
      "Los coeficientes en la iteración 1 son\n",
      "[[-1.11832851]\n",
      " [-0.47988609]\n",
      " [27.39739678]\n",
      " [ 9.02842684]\n",
      " [ 4.235656  ]\n",
      " [17.50696208]\n",
      " [33.51249721]\n",
      " [11.30553228]\n",
      " [27.3337586 ]\n",
      " [ 0.36387547]\n",
      " [ 1.84298424]\n",
      " [-0.13382681]\n",
      " [ 2.67547169]\n",
      " [ 2.09951701]\n",
      " [12.37648818]]\n",
      "\n",
      "Los coeficientes en la iteración 2 son\n",
      "[[-9.95414139e-01]\n",
      " [-7.29171586e-01]\n",
      " [ 4.30061221e+01]\n",
      " [ 1.41663598e+01]\n",
      " [ 7.33563191e+00]\n",
      " [ 2.86795764e+01]\n",
      " [ 5.43858673e+01]\n",
      " [ 1.79962327e+01]\n",
      " [ 4.52157517e+01]\n",
      " [ 3.77854784e-02]\n",
      " [ 1.94537046e+00]\n",
      " [-4.74899521e-01]\n",
      " [ 2.98564192e+00]\n",
      " [ 3.13081990e+00]\n",
      " [ 1.95297560e+01]]\n",
      "\n",
      "Los coeficientes en la iteración 3 son\n",
      "[[-0.23141926]\n",
      " [-0.66942317]\n",
      " [52.22117912]\n",
      " [17.0861271 ]\n",
      " [ 9.59403329]\n",
      " [35.83615525]\n",
      " [67.561772  ]\n",
      " [22.12985433]\n",
      " [57.22723622]\n",
      " [-0.11467604]\n",
      " [ 1.62703296]\n",
      " [-0.55684367]\n",
      " [ 2.62797227]\n",
      " [ 3.71476089]\n",
      " [24.05692047]]\n",
      "\n",
      "Los coeficientes en la iteración 4 son\n",
      "[[ 0.65364207]\n",
      " [-0.52208654]\n",
      " [57.67788161]\n",
      " [18.72887797]\n",
      " [11.16794619]\n",
      " [40.42195077]\n",
      " [75.93819834]\n",
      " [24.69592922]\n",
      " [65.26293019]\n",
      " [-0.17191926]\n",
      " [ 1.22738429]\n",
      " [-0.52544607]\n",
      " [ 2.09059758]\n",
      " [ 4.03821636]\n",
      " [26.96032316]]\n",
      "\n",
      "Los coeficientes en la iteración 5 son\n",
      "[[ 1.45197386]\n",
      " [-0.37465994]\n",
      " [60.91770866]\n",
      " [19.64047239]\n",
      " [12.23203489]\n",
      " [43.36106682]\n",
      " [81.29782367]\n",
      " [26.29595467]\n",
      " [70.62188189]\n",
      " [-0.1796946 ]\n",
      " [ 0.8730045 ]\n",
      " [-0.45175934]\n",
      " [ 1.57398985]\n",
      " [ 4.21150992]\n",
      " [28.84391523]]\n",
      "\n",
      "Los coeficientes en la iteración 6 son\n",
      "[[ 2.10052103]\n",
      " [-0.25523568]\n",
      " [62.84578193]\n",
      " [20.1366062 ]\n",
      " [12.93554827]\n",
      " [45.24498529]\n",
      " [84.74701512]\n",
      " [27.29768446]\n",
      " [74.18692495]\n",
      " [-0.16408867]\n",
      " [ 0.59753342]\n",
      " [-0.36918466]\n",
      " [ 1.14562356]\n",
      " [ 4.29950142]\n",
      " [30.07786215]]\n",
      "\n",
      "Los coeficientes en la iteración 7 son\n",
      "[[ 2.59841127]\n",
      " [-0.16755162]\n",
      " [63.99547284]\n",
      " [20.39911048]\n",
      " [13.39262959]\n",
      " [46.45256035]\n",
      " [86.97816543]\n",
      " [27.927187  ]\n",
      " [76.5540093 ]\n",
      " [-0.13947909]\n",
      " [ 0.39788828]\n",
      " [-0.29231689]\n",
      " [ 0.81545845]\n",
      " [ 4.34007219]\n",
      " [30.89277035]]\n",
      "\n",
      "Los coeficientes en la iteración 8 son\n",
      "[[ 2.96761128]\n",
      " [-0.10681302]\n",
      " [64.68212415]\n",
      " [20.53211335]\n",
      " [13.68537298]\n",
      " [47.22656975]\n",
      " [88.42796549]\n",
      " [28.3241372 ]\n",
      " [78.12333991]\n",
      " [-0.11338298]\n",
      " [ 0.25940604]\n",
      " [-0.22652395]\n",
      " [ 0.57160708]\n",
      " [ 4.35512961]\n",
      " [31.43448201]]\n",
      "\n",
      "Los coeficientes en la iteración 9 son\n",
      "[[ 3.23518079e+00]\n",
      " [-6.63790104e-02]\n",
      " [ 6.50927323e+01]\n",
      " [ 2.05947755e+01]\n",
      " [ 1.38705557e+01]\n",
      " [ 4.77226358e+01]\n",
      " [ 8.93738013e+01]\n",
      " [ 2.85752372e+01]\n",
      " [ 7.91625849e+01]\n",
      " [-8.93896515e-02]\n",
      " [ 1.66225624e-01]\n",
      " [-1.72806739e-01]\n",
      " [ 3.96346544e-01]\n",
      " [ 4.35716108e+00]\n",
      " [ 3.17964808e+01]]\n",
      "\n",
      "Los coeficientes en la iteración 10 son\n",
      "[[ 3.42603787e+00]\n",
      " [-4.02615785e-02]\n",
      " [ 6.53384806e+01]\n",
      " [ 2.06203466e+01]\n",
      " [ 1.39863888e+01]\n",
      " [ 4.80405289e+01]\n",
      " [ 8.99930081e+01]\n",
      " [ 2.87345396e+01]\n",
      " [ 7.98502020e+01]\n",
      " [-6.89137682e-02]\n",
      " [ 1.04935790e-01]\n",
      " [-1.30247983e-01]\n",
      " [ 2.72679859e-01]\n",
      " [ 4.35313477e+00]\n",
      " [ 3.20393921e+01]]\n",
      "\n",
      "y los coeficientes finales son\n",
      "[[ 3.85437200e+00]\n",
      " [ 2.13097557e-04]\n",
      " [ 6.57025280e+01]\n",
      " [ 2.05922147e+01]\n",
      " [ 1.41653310e+01]\n",
      " [ 4.86005071e+01]\n",
      " [ 9.11715354e+01]\n",
      " [ 2.90126124e+01]\n",
      " [ 8.11693159e+01]\n",
      " [-2.87822936e-03]\n",
      " [ 3.61504450e-04]\n",
      " [-5.39260011e-03]\n",
      " [ 5.55527411e-03]\n",
      " [ 4.31391754e+00]\n",
      " [ 3.25347651e+01]]\n"
     ]
    }
   ],
   "source": [
    "print(\"Para el modelo de mínimos cuadrados se tiene que\\n\")\n",
    "gradLS_armijo_step(x, Y, W, 10, 100, alfa, beta, \"si\") #Epsilon incluso más pequeño!\n",
    "coefs_LS = gradLS_armijo_step(x, Y, W, 10, 100, alfa, beta, \"no\")[0]\n",
    "print(\"y los coeficientes finales son\\n\" + str(coefs_LS))"
   ]
  },
  {
   "cell_type": "markdown",
   "id": "c537b9ea-f617-4e4d-8f4b-fc12288964aa",
   "metadata": {},
   "source": [
    "Modelo Ridge"
   ]
  },
  {
   "cell_type": "code",
   "execution_count": 64,
   "id": "d7584939-7c87-4d2b-a9f5-b52ba66fe5fd",
   "metadata": {},
   "outputs": [
    {
     "name": "stdout",
     "output_type": "stream",
     "text": [
      "Para el modelo Ridge se tiene que\n",
      "\n",
      "Los coeficientes en la iteración 1 son\n",
      "[[-1.11872602]\n",
      " [-0.4803003 ]\n",
      " [27.39678296]\n",
      " [ 9.02838979]\n",
      " [ 4.2354622 ]\n",
      " [17.50692346]\n",
      " [33.51236568]\n",
      " [11.30523655]\n",
      " [27.33315986]\n",
      " [ 0.36317396]\n",
      " [ 1.84261811]\n",
      " [-0.13436213]\n",
      " [ 2.67504087]\n",
      " [ 2.09930213]\n",
      " [12.37585088]]\n",
      "\n",
      "Los coeficientes en la iteración 2 son\n",
      "[[-9.95666300e-01]\n",
      " [-7.29412485e-01]\n",
      " [ 4.30049542e+01]\n",
      " [ 1.41661135e+01]\n",
      " [ 7.33537908e+00]\n",
      " [ 2.86790537e+01]\n",
      " [ 5.43848001e+01]\n",
      " [ 1.79957297e+01]\n",
      " [ 4.52145815e+01]\n",
      " [ 3.73601811e-02]\n",
      " [ 1.94510381e+00]\n",
      " [-4.75230306e-01]\n",
      " [ 2.98531490e+00]\n",
      " [ 3.13063620e+00]\n",
      " [ 1.95289788e+01]]\n",
      "\n",
      "Los coeficientes en la iteración 3 son\n",
      "[[-0.23161653]\n",
      " [-0.66957047]\n",
      " [52.21971164]\n",
      " [17.08575895]\n",
      " [ 9.59372146]\n",
      " [35.83531272]\n",
      " [67.56011873]\n",
      " [22.12922638]\n",
      " [57.22565218]\n",
      " [-0.11493074]\n",
      " [ 1.62686144]\n",
      " [-0.55704969]\n",
      " [ 2.62775434]\n",
      " [ 3.71460111]\n",
      " [24.05607064]]\n",
      "\n",
      "Los coeficientes en la iteración 4 son\n",
      "[[ 0.65345348]\n",
      " [-0.52218528]\n",
      " [57.67625641]\n",
      " [18.72844105]\n",
      " [11.16758478]\n",
      " [40.42089813]\n",
      " [75.93617589]\n",
      " [24.69522517]\n",
      " [65.26104829]\n",
      " [-0.17207244]\n",
      " [ 1.22728975]\n",
      " [-0.52557878]\n",
      " [ 2.09047369]\n",
      " [ 4.03807364]\n",
      " [26.9594323 ]]\n",
      "\n",
      "Los coeficientes en la iteración 5 son\n",
      "[[ 1.45177315]\n",
      " [-0.37473402]\n",
      " [60.91600427]\n",
      " [19.63999843]\n",
      " [12.23163563]\n",
      " [43.35987649]\n",
      " [81.29556623]\n",
      " [26.29520413]\n",
      " [70.61978706]\n",
      " [-0.17978839]\n",
      " [ 0.8729679 ]\n",
      " [-0.45184992]\n",
      " [ 1.57394093]\n",
      " [ 4.21137932]\n",
      " [28.84299906]]\n",
      "\n",
      "Los coeficientes en la iteración 6 son\n",
      "[[ 2.10030068]\n",
      " [-0.25529743]\n",
      " [62.84404103]\n",
      " [20.13611385]\n",
      " [12.93512188]\n",
      " [45.2437049 ]\n",
      " [84.74460629]\n",
      " [27.29690545]\n",
      " [74.18467873]\n",
      " [-0.16414833]\n",
      " [ 0.59753857]\n",
      " [-0.36925168]\n",
      " [ 1.14563192]\n",
      " [ 4.29937956]\n",
      " [30.07692884]]\n",
      "\n",
      "Los coeficientes en la iteración 7 son\n",
      "[[ 2.59817028]\n",
      " [-0.16760725]\n",
      " [63.99371791]\n",
      " [20.39861037]\n",
      " [13.39218464]\n",
      " [46.45122123]\n",
      " [86.97565783]\n",
      " [27.92639057]\n",
      " [76.55165591]\n",
      " [-0.13951955]\n",
      " [ 0.3979226 ]\n",
      " [-0.2923713 ]\n",
      " [ 0.81550942]\n",
      " [ 4.33995679]\n",
      " [30.89182448]]\n",
      "\n",
      "Los coeficientes en la iteración 8 son\n",
      "[[ 2.96735156]\n",
      " [-0.10686559]\n",
      " [64.68036647]\n",
      " [20.53161133]\n",
      " [13.68491587]\n",
      " [47.22519242]\n",
      " [88.42539261]\n",
      " [28.32333012]\n",
      " [78.1209109 ]\n",
      " [-0.11341303]\n",
      " [ 0.25946026]\n",
      " [-0.22657215]\n",
      " [ 0.57168919]\n",
      " [ 4.35501908]\n",
      " [31.43352643]]\n",
      "\n",
      "Los coeficientes en la iteración 9 son\n",
      "[[ 3.23490526e+00]\n",
      " [-6.64299887e-02]\n",
      " [ 6.50909770e+01]\n",
      " [ 2.05942745e+01]\n",
      " [ 1.38700909e+01]\n",
      " [ 4.77212337e+01]\n",
      " [ 8.93711847e+01]\n",
      " [ 2.85744236e+01]\n",
      " [ 7.91601027e+01]\n",
      " [-8.94143396e-02]\n",
      " [ 1.66293141e-01]\n",
      " [-1.72852360e-01]\n",
      " [ 3.96451132e-01]\n",
      " [ 4.35705428e+00]\n",
      " [ 3.17955174e+01]]\n",
      "\n",
      "Los coeficientes en la iteración 10 son\n",
      "[[ 3.42574958e+00]\n",
      " [-4.03116420e-02]\n",
      " [ 6.53367296e+01]\n",
      " [ 2.06198480e+01]\n",
      " [ 1.39859195e+01]\n",
      " [ 4.80391108e+01]\n",
      " [ 8.99903619e+01]\n",
      " [ 2.87337220e+01]\n",
      " [ 7.98476825e+01]\n",
      " [-6.89359681e-02]\n",
      " [ 1.05012032e-01]\n",
      " [-1.30293026e-01]\n",
      " [ 2.72800519e-01]\n",
      " [ 4.35303088e+00]\n",
      " [ 3.20384225e+01]]\n",
      "\n",
      "y los coeficientes finales son\n",
      "[[ 3.76510625e+00]\n",
      " [-4.04166691e-03]\n",
      " [ 6.56563106e+01]\n",
      " [ 2.06135467e+01]\n",
      " [ 1.41439453e+01]\n",
      " [ 4.85103769e+01]\n",
      " [ 9.09581252e+01]\n",
      " [ 2.89674496e+01]\n",
      " [ 8.09325469e+01]\n",
      " [-2.11800414e-02]\n",
      " [ 1.46301387e-02]\n",
      " [-3.87655198e-02]\n",
      " [ 5.86385645e-02]\n",
      " [ 4.32868769e+00]\n",
      " [ 3.24374838e+01]]\n"
     ]
    }
   ],
   "source": [
    "print(\"Para el modelo Ridge se tiene que\\n\")\n",
    "gradR_armijo_step(x, Y, W, 10, 100, alfa, beta, \"si\")\n",
    "coefs_R = gradR_armijo_step(x, Y, W, 10, 1000, alfa, beta, \"no\")[0]\n",
    "print(\"y los coeficientes finales son\\n\" + str(coefs_R))"
   ]
  },
  {
   "cell_type": "markdown",
   "id": "8f29b008-e1ec-4781-af59-7624a1803193",
   "metadata": {},
   "source": [
    "Comparación en norma de los coeficientes obtenidos vía ambos métodos."
   ]
  },
  {
   "cell_type": "code",
   "execution_count": 65,
   "id": "9910a30c-9fbf-48aa-9e58-8307ce58e5bf",
   "metadata": {},
   "outputs": [
    {
     "data": {
      "text/plain": [
       "0.370072273530684"
      ]
     },
     "execution_count": 65,
     "metadata": {},
     "output_type": "execute_result"
    }
   ],
   "source": [
    "np.linalg.norm(coefs_LS-coefs_R)"
   ]
  },
  {
   "cell_type": "markdown",
   "id": "3f688153-e3b3-457f-bbdc-6bc4a7c63bbb",
   "metadata": {},
   "source": [
    "Realización del método Ridge con distintos valores de $\\lambda$"
   ]
  },
  {
   "cell_type": "code",
   "execution_count": 66,
   "id": "20d3aecd-3b4f-4daa-ab86-e482eed98208",
   "metadata": {},
   "outputs": [],
   "source": [
    "lista_coefs = []\n",
    "lista_funcion = []\n",
    "lambdas = [0.01, 0.1, 1, 10, 100, 1000]\n",
    "for i in lambdas:\n",
    "    lista_funcion.append(gradR_armijo_step(x, Y, W, i, 100, alfa, beta, \"no\")[1])\n",
    "    lista_coefs.append(np.linalg.norm(gradR_armijo_step(x, Y, W, i, 100, alfa, beta, \"no\")[0]))"
   ]
  },
  {
   "cell_type": "code",
   "execution_count": 67,
   "id": "7342e721-550c-4f6c-a357-118a7d09e849",
   "metadata": {},
   "outputs": [
    {
     "data": {
      "text/plain": [
       "[155.3638999908808,\n",
       " 155.36385846714214,\n",
       " 155.36344322977143,\n",
       " 155.3592908576842,\n",
       " 155.31776729877913,\n",
       " 154.9025479142499]"
      ]
     },
     "execution_count": 67,
     "metadata": {},
     "output_type": "execute_result"
    }
   ],
   "source": [
    "lista_coefs "
   ]
  },
  {
   "cell_type": "markdown",
   "id": "93beb845-99aa-4c88-9409-62ba1517486d",
   "metadata": {},
   "source": [
    "Gráfica comparativa entre $\\lambda$ y la norma de los parámetros obtenidos."
   ]
  },
  {
   "cell_type": "code",
   "execution_count": 68,
   "id": "421895d3-7c91-46ee-b566-46e948a8feff",
   "metadata": {},
   "outputs": [
    {
     "data": {
      "image/png": "[encoded data removed]",
      "text/plain": [
       "<Figure size 864x576 with 1 Axes>"
      ]
     },
     "metadata": {
      "needs_background": "light"
     },
     "output_type": "display_data"
    }
   ],
   "source": [
    "plt.figure(figsize = (12, 8))\n",
    "plt.plot(lambdas, lista_coefs, label='Aproximación')\n",
    "plt.title('Norma parámetros vs λ')\n",
    "plt.xlabel('Parámetro λ Ridge')\n",
    "plt.ylabel('Norma parámetros obtenidos')\n",
    "plt.grid()\n",
    "plt.legend(loc='lower right')\n",
    "plt.show()"
   ]
  },
  {
   "cell_type": "markdown",
   "id": "bfcca7fc-e406-4345-9482-3b20d46d149d",
   "metadata": {},
   "source": [
    "Con el objetivo de corroborar el código programado, podemos comparar los valores de $x$ obtenidos con la función de mínimos cuadrados $\\texttt{lstsq}$ que la libreria $\\texttt{numpy}$ ya trae implementada"
   ]
  },
  {
   "cell_type": "code",
   "execution_count": 69,
   "id": "9a84ad5a-0688-46a6-9121-29b29da8f16c",
   "metadata": {},
   "outputs": [
    {
     "name": "stdout",
     "output_type": "stream",
     "text": [
      "[[ 3.86444037e+00]\n",
      " [ 0.00000000e+00]\n",
      " [ 6.57044208e+01]\n",
      " [ 2.05875335e+01]\n",
      " [ 1.41653525e+01]\n",
      " [ 4.86070281e+01]\n",
      " [ 9.11918049e+01]\n",
      " [ 2.90161562e+01]\n",
      " [ 8.11907075e+01]\n",
      " [ 1.77635684e-14]\n",
      " [ 7.10542736e-15]\n",
      " [ 3.01980663e-14]\n",
      " [-3.90798505e-14]\n",
      " [ 4.31092859e+00]\n",
      " [ 3.25453171e+01]]\n"
     ]
    }
   ],
   "source": [
    "alpha = np.linalg.lstsq(W, Y, rcond=None)[0]\n",
    "print(alpha)"
   ]
  },
  {
   "cell_type": "code",
   "execution_count": 70,
   "id": "dac55ed1-34c7-46de-94d4-6e54a75bec74",
   "metadata": {},
   "outputs": [
    {
     "data": {
      "text/plain": [
       "0.03520065601134562"
      ]
     },
     "execution_count": 70,
     "metadata": {},
     "output_type": "execute_result"
    }
   ],
   "source": [
    "np.linalg.norm(coefs_LS-alpha)"
   ]
  },
  {
   "cell_type": "markdown",
   "id": "fdd608ad-b003-4c1c-808b-c2869169d31c",
   "metadata": {},
   "source": [
    "Notamos que estos son sumamente cercanos a los que obtuvimos con la implementación del método del gradiente con paso de Armijo."
   ]
  }
 ],
 "metadata": {
  "kernelspec": {
   "display_name": "Python 3 (ipykernel)",
   "language": "python",
   "name": "python3"
  },
  "language_info": {
   "codemirror_mode": {
    "name": "ipython",
    "version": 3
   },
   "file_extension": ".py",
   "mimetype": "text/x-python",
   "name": "python",
   "nbconvert_exporter": "python",
   "pygments_lexer": "ipython3",
   "version": "3.10.0"
  }
 },
 "nbformat": 4,
 "nbformat_minor": 5
}
